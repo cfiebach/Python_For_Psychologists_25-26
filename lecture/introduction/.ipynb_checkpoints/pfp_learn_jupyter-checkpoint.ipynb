{
 "cells": [
  {
   "metadata": {
    "collapsed": true
   },
   "cell_type": "markdown",
   "source": "print(\"Hallo\")",
   "id": "9fbd8c38bba4913e"
  },
  {
   "metadata": {},
   "cell_type": "markdown",
   "source": "I am a **Markdown** cell.",
   "id": "4e6216de432a6a55"
  },
  {
   "metadata": {},
   "cell_type": "code",
   "outputs": [],
   "execution_count": null,
   "source": "",
   "id": "54274b085f73f73c"
  }
 ],
 "metadata": {
  "kernelspec": {
   "display_name": "Python 3",
   "language": "python",
   "name": "python3"
  },
  "language_info": {
   "codemirror_mode": {
    "name": "ipython",
    "version": 2
   },
   "file_extension": ".py",
   "mimetype": "text/x-python",
   "name": "python",
   "nbconvert_exporter": "python",
   "pygments_lexer": "ipython2",
   "version": "2.7.6"
  }
 },
 "nbformat": 4,
 "nbformat_minor": 5
}
